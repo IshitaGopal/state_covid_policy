{
 "cells": [
  {
   "cell_type": "code",
   "execution_count": null,
   "metadata": {},
   "outputs": [],
   "source": [
    "import pandas as pd\n",
    "import os \n",
    "import glob\n",
    "pd.set_option('display.max_rows',100)"
   ]
  },
  {
   "cell_type": "code",
   "execution_count": null,
   "metadata": {},
   "outputs": [],
   "source": [
    "# set to main directory --- Will have to be set \n",
    "os.chdir('/Users/ishitagopal/Box/Projects/state_covid_policy/code')"
   ]
  },
  {
   "cell_type": "code",
   "execution_count": null,
   "metadata": {},
   "outputs": [],
   "source": [
    "# import helper functions from twitter_api_helper_functions\n",
    "%run twitter_api_helper_functions.ipynb\n"
   ]
  },
  {
   "cell_type": "code",
   "execution_count": null,
   "metadata": {},
   "outputs": [],
   "source": [
    "# Function for navigating to the state folder --- Will have to be set\n",
    "# Assumes state directory already exists \n",
    "def cd(state):\n",
    "    os.chdir('/Users/ishitagopal/Box/Projects/state_covid_policy/Data/%s' % state)"
   ]
  },
  {
   "cell_type": "code",
   "execution_count": null,
   "metadata": {},
   "outputs": [],
   "source": [
    "# Input state name for which tweets, followers and friends have to be collected \n",
    "state_name = 'Texas'\n",
    "\n",
    "# change folder to State's folder\n",
    "cd(state_name)\n",
    "\n",
    "# check path if path was correctly assigned \n",
    "os.getcwd()\n"
   ]
  },
  {
   "cell_type": "code",
   "execution_count": null,
   "metadata": {},
   "outputs": [],
   "source": [
    "# After running the get_timeline() function find the metadata file \n",
    "meta_data = glob.glob('*metadata*.csv')[0]\n",
    "print(meta_data)\n"
   ]
  },
  {
   "cell_type": "code",
   "execution_count": null,
   "metadata": {},
   "outputs": [],
   "source": [
    "# Find all active accounts\n",
    "meta_file = pd.read_csv(meta_data, header=None)\n",
    "\n",
    "active_accounts = meta_file[meta_file[7]=='active'][0]\n",
    "\n",
    "# reset index \n",
    "active_accounts = active_accounts.reset_index(drop=True)\n",
    "\n",
    "len(active_accounts)"
   ]
  },
  {
   "cell_type": "code",
   "execution_count": null,
   "metadata": {},
   "outputs": [],
   "source": [
    "# Get followers of active accounts \n",
    "for account in active_accounts:\n",
    "        print(account)\n",
    "        get_follower_ids(account)\n",
    "        "
   ]
  },
  {
   "cell_type": "code",
   "execution_count": null,
   "metadata": {},
   "outputs": [],
   "source": [
    "# Retry accounts for which followers were not successfully collected  \n",
    "\n",
    "# Accounts for which follower Ids were successfully collected\n",
    "filepath_followers = glob.glob('*/*FollowerIds*.csv')\n",
    "\n",
    "if len(filepath_followers) > 0:\n",
    "    scarped_followers = [name.split('/')[0] for name in filepath_followers]\n",
    "\n",
    "     # Accounts for which to retry collection  \n",
    "    retry_followers = [x for x in active_accounts if x not in scarped_followers]  \n",
    "    print('Retry %s accounts' %(len(retry_followers)))\n",
    "\n",
    "    while len(retry_followers) > 0:\n",
    "        for account in retry_followers:\n",
    "            print(account)\n",
    "            get_follower_ids(account)\n",
    "\n",
    "        filepath_followers = glob.glob('*/*FollowerIds*.csv')\n",
    "        scarped_followers = [name.split('/')[0] for name in filepath_followers]\n",
    "        retry_followers = [x for x in active_accounts if x not in scarped_followers]\n",
    "        print('Retry %s accounts' %(len(retry_followers)))\n",
    "        \n",
    "    print('All followers collected')\n",
    "    \n",
    "    \n",
    "        \n",
    "\n",
    "# #Find duplicates     \n",
    "# #from collections import Counter\n",
    "# #[k for k,v in Counter(scarped_followers).items() if v>1]\n",
    "# #len(retry_followers)"
   ]
  }
 ],
 "metadata": {
  "kernelspec": {
   "display_name": "Python 3",
   "language": "python",
   "name": "python3"
  },
  "language_info": {
   "codemirror_mode": {
    "name": "ipython",
    "version": 3
   },
   "file_extension": ".py",
   "mimetype": "text/x-python",
   "name": "python",
   "nbconvert_exporter": "python",
   "pygments_lexer": "ipython3",
   "version": "3.7.4"
  }
 },
 "nbformat": 4,
 "nbformat_minor": 2
}

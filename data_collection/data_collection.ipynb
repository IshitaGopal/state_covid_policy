{
 "cells": [
  {
   "cell_type": "code",
   "execution_count": 1,
   "metadata": {},
   "outputs": [],
   "source": [
    "import pandas as pd\n",
    "import os \n",
    "import datetime \n",
    "import tweepy\n",
    "import json \n",
    "import glob"
   ]
  },
  {
   "cell_type": "code",
   "execution_count": 2,
   "metadata": {},
   "outputs": [],
   "source": [
    "pd.set_option('display.max_rows',100)"
   ]
  },
  {
   "cell_type": "code",
   "execution_count": 5,
   "metadata": {},
   "outputs": [],
   "source": [
    "# set to main directory --- Will have to be set \n",
    "os.chdir('/Users/ishitagopal/Box/Projects/state_covid_policy/code')"
   ]
  },
  {
   "cell_type": "code",
   "execution_count": 6,
   "metadata": {},
   "outputs": [],
   "source": [
    "# import helper functions from twitter_api_helper_functions\n",
    "%run twitter_api_helper_functions.ipynb\n"
   ]
  },
  {
   "cell_type": "code",
   "execution_count": 7,
   "metadata": {},
   "outputs": [],
   "source": [
    "# Function for navigating to the state folder --- Will have to be set\n",
    "# Assumes state directory already exists \n",
    "def cd(state):\n",
    "    os.chdir('/Users/ishitagopal/Box/Projects/state_covid_policy/Data/%s' % state)"
   ]
  },
  {
   "cell_type": "code",
   "execution_count": 8,
   "metadata": {},
   "outputs": [
    {
     "data": {
      "text/plain": [
       "'/Users/ishitagopal/Box/Projects/state_covid_policy/Data/South_Dakota'"
      ]
     },
     "execution_count": 8,
     "metadata": {},
     "output_type": "execute_result"
    }
   ],
   "source": [
    "# Input state name for which tweets, followers and friends have to be collected \n",
    "state_name = 'South_Dakota'\n",
    "\n",
    "# change folder to State's folder\n",
    "cd(state_name)\n",
    "\n",
    "# check path if path was correctly assigned \n",
    "os.getcwd()\n"
   ]
  },
  {
   "cell_type": "code",
   "execution_count": 9,
   "metadata": {},
   "outputs": [
    {
     "name": "stdout",
     "output_type": "stream",
     "text": [
      "state_legislators_handle_sd.csv\n"
     ]
    },
    {
     "data": {
      "text/html": [
       "<div>\n",
       "<style scoped>\n",
       "    .dataframe tbody tr th:only-of-type {\n",
       "        vertical-align: middle;\n",
       "    }\n",
       "\n",
       "    .dataframe tbody tr th {\n",
       "        vertical-align: top;\n",
       "    }\n",
       "\n",
       "    .dataframe thead th {\n",
       "        text-align: right;\n",
       "    }\n",
       "</style>\n",
       "<table border=\"1\" class=\"dataframe\">\n",
       "  <thead>\n",
       "    <tr style=\"text-align: right;\">\n",
       "      <th></th>\n",
       "      <th>state</th>\n",
       "      <th>chamber</th>\n",
       "      <th>party</th>\n",
       "      <th>name</th>\n",
       "      <th>handle_1</th>\n",
       "      <th>handle_2</th>\n",
       "      <th>source_1</th>\n",
       "      <th>source_2</th>\n",
       "      <th>note</th>\n",
       "    </tr>\n",
       "  </thead>\n",
       "  <tbody>\n",
       "    <tr>\n",
       "      <td>0</td>\n",
       "      <td>South Dakota</td>\n",
       "      <td>H</td>\n",
       "      <td>(D)</td>\n",
       "      <td>Steven McCleerey</td>\n",
       "      <td>NaN</td>\n",
       "      <td>NaN</td>\n",
       "      <td>NaN</td>\n",
       "      <td>NaN</td>\n",
       "      <td>NaN</td>\n",
       "    </tr>\n",
       "    <tr>\n",
       "      <td>1</td>\n",
       "      <td>South Dakota</td>\n",
       "      <td>H</td>\n",
       "      <td>(R)</td>\n",
       "      <td>Tamara St. John</td>\n",
       "      <td>NaN</td>\n",
       "      <td>NaN</td>\n",
       "      <td>NaN</td>\n",
       "      <td>NaN</td>\n",
       "      <td>NaN</td>\n",
       "    </tr>\n",
       "    <tr>\n",
       "      <td>2</td>\n",
       "      <td>South Dakota</td>\n",
       "      <td>H</td>\n",
       "      <td>(R)</td>\n",
       "      <td>Lana Greenfield</td>\n",
       "      <td>GreenfieldLana</td>\n",
       "      <td>NaN</td>\n",
       "      <td>cook</td>\n",
       "      <td>NaN</td>\n",
       "      <td>NaN</td>\n",
       "    </tr>\n",
       "    <tr>\n",
       "      <td>3</td>\n",
       "      <td>South Dakota</td>\n",
       "      <td>H</td>\n",
       "      <td>(R)</td>\n",
       "      <td>Kaleb Weis</td>\n",
       "      <td>NaN</td>\n",
       "      <td>NaN</td>\n",
       "      <td>NaN</td>\n",
       "      <td>NaN</td>\n",
       "      <td>NaN</td>\n",
       "    </tr>\n",
       "    <tr>\n",
       "      <td>4</td>\n",
       "      <td>South Dakota</td>\n",
       "      <td>H</td>\n",
       "      <td>(R)</td>\n",
       "      <td>Drew Dennert</td>\n",
       "      <td>RepDrewDennert</td>\n",
       "      <td>NaN</td>\n",
       "      <td>https://www.google.com/search?client=safari&amp;rl...</td>\n",
       "      <td>NaN</td>\n",
       "      <td>NaN</td>\n",
       "    </tr>\n",
       "    <tr>\n",
       "      <td>...</td>\n",
       "      <td>...</td>\n",
       "      <td>...</td>\n",
       "      <td>...</td>\n",
       "      <td>...</td>\n",
       "      <td>...</td>\n",
       "      <td>...</td>\n",
       "      <td>...</td>\n",
       "      <td>...</td>\n",
       "      <td>...</td>\n",
       "    </tr>\n",
       "    <tr>\n",
       "      <td>100</td>\n",
       "      <td>South Dakota</td>\n",
       "      <td>S</td>\n",
       "      <td>(R)</td>\n",
       "      <td>Bob Ewing</td>\n",
       "      <td>NaN</td>\n",
       "      <td>NaN</td>\n",
       "      <td>NaN</td>\n",
       "      <td>NaN</td>\n",
       "      <td>NaN</td>\n",
       "    </tr>\n",
       "    <tr>\n",
       "      <td>101</td>\n",
       "      <td>South Dakota</td>\n",
       "      <td>S</td>\n",
       "      <td>(R)</td>\n",
       "      <td>Helene Duhamel</td>\n",
       "      <td>heleneduhamelTV</td>\n",
       "      <td>NaN</td>\n",
       "      <td>https://www.google.com/search?client=safari&amp;rl...</td>\n",
       "      <td>NaN</td>\n",
       "      <td>NaN</td>\n",
       "    </tr>\n",
       "    <tr>\n",
       "      <td>102</td>\n",
       "      <td>South Dakota</td>\n",
       "      <td>S</td>\n",
       "      <td>(R)</td>\n",
       "      <td>Phil Jensen</td>\n",
       "      <td>NaN</td>\n",
       "      <td>NaN</td>\n",
       "      <td>NaN</td>\n",
       "      <td>NaN</td>\n",
       "      <td>NaN</td>\n",
       "    </tr>\n",
       "    <tr>\n",
       "      <td>103</td>\n",
       "      <td>South Dakota</td>\n",
       "      <td>S</td>\n",
       "      <td>(R)</td>\n",
       "      <td>Jeffrey Partridge</td>\n",
       "      <td>PartridgeSD</td>\n",
       "      <td>NaN</td>\n",
       "      <td>https://www.billtrack50.com/LegislatorDetail/2...</td>\n",
       "      <td>NaN</td>\n",
       "      <td>NaN</td>\n",
       "    </tr>\n",
       "    <tr>\n",
       "      <td>104</td>\n",
       "      <td>South Dakota</td>\n",
       "      <td>S</td>\n",
       "      <td>(R)</td>\n",
       "      <td>Jessica Castleberry</td>\n",
       "      <td>SenatorJessica</td>\n",
       "      <td>NaN</td>\n",
       "      <td>https://www.google.com/search?client=safari&amp;rl...</td>\n",
       "      <td>NaN</td>\n",
       "      <td>NaN</td>\n",
       "    </tr>\n",
       "  </tbody>\n",
       "</table>\n",
       "<p>105 rows × 9 columns</p>\n",
       "</div>"
      ],
      "text/plain": [
       "            state chamber party                 name         handle_1  \\\n",
       "0    South Dakota       H   (D)     Steven McCleerey              NaN   \n",
       "1    South Dakota       H   (R)      Tamara St. John              NaN   \n",
       "2    South Dakota       H   (R)      Lana Greenfield   GreenfieldLana   \n",
       "3    South Dakota       H   (R)           Kaleb Weis              NaN   \n",
       "4    South Dakota       H   (R)         Drew Dennert   RepDrewDennert   \n",
       "..            ...     ...   ...                  ...              ...   \n",
       "100  South Dakota       S   (R)            Bob Ewing              NaN   \n",
       "101  South Dakota       S   (R)       Helene Duhamel  heleneduhamelTV   \n",
       "102  South Dakota       S   (R)          Phil Jensen              NaN   \n",
       "103  South Dakota       S   (R)    Jeffrey Partridge      PartridgeSD   \n",
       "104  South Dakota       S   (R)  Jessica Castleberry   SenatorJessica   \n",
       "\n",
       "    handle_2                                           source_1  source_2 note  \n",
       "0        NaN                                                NaN       NaN  NaN  \n",
       "1        NaN                                                NaN       NaN  NaN  \n",
       "2        NaN                                               cook       NaN  NaN  \n",
       "3        NaN                                                NaN       NaN  NaN  \n",
       "4        NaN  https://www.google.com/search?client=safari&rl...       NaN  NaN  \n",
       "..       ...                                                ...       ...  ...  \n",
       "100      NaN                                                NaN       NaN  NaN  \n",
       "101      NaN  https://www.google.com/search?client=safari&rl...       NaN  NaN  \n",
       "102      NaN                                                NaN       NaN  NaN  \n",
       "103      NaN  https://www.billtrack50.com/LegislatorDetail/2...       NaN  NaN  \n",
       "104      NaN  https://www.google.com/search?client=safari&rl...       NaN  NaN  \n",
       "\n",
       "[105 rows x 9 columns]"
      ]
     },
     "execution_count": 9,
     "metadata": {},
     "output_type": "execute_result"
    }
   ],
   "source": [
    "# Import handles collected by Taegyoon \n",
    "twitter_handles = glob.glob('*state_legislators_handle*.csv')[0]\n",
    "print(twitter_handles)\n",
    "\n",
    "df = pd.read_csv(twitter_handles)\n",
    "df"
   ]
  },
  {
   "cell_type": "code",
   "execution_count": 97,
   "metadata": {},
   "outputs": [
    {
     "data": {
      "text/plain": [
       "0    GreenfieldLana\n",
       "1    RepDrewDennert\n",
       "2       FredDeutsch\n",
       "3         subhugesd\n",
       "4      HermanOtten_\n",
       "Name: handle_1, dtype: object"
      ]
     },
     "execution_count": 97,
     "metadata": {},
     "output_type": "execute_result"
    }
   ],
   "source": [
    "# selct non null handles \n",
    "handles_1 = df.loc[df.handle_1.isnull()==False, 'handle_1']\n",
    "# reset index \n",
    "handles_1 = handles_1.reset_index(drop = True)\n",
    "\n",
    "handles_1.head()"
   ]
  },
  {
   "cell_type": "code",
   "execution_count": 98,
   "metadata": {},
   "outputs": [
    {
     "data": {
      "text/plain": [
       "42"
      ]
     },
     "execution_count": 98,
     "metadata": {},
     "output_type": "execute_result"
    }
   ],
   "source": [
    "# check number of handles \n",
    "len(handles_1)\n"
   ]
  },
  {
   "cell_type": "code",
   "execution_count": 99,
   "metadata": {},
   "outputs": [
    {
     "name": "stdout",
     "output_type": "stream",
     "text": [
      "GreenfieldLana\n",
      "account 0\n",
      "not protected\n",
      "account inactive\n",
      "RepDrewDennert\n",
      "account 1\n",
      "not protected\n",
      "getting tweets before 408796834413301759\n",
      "...344 tweets downloaded so far\n",
      "getting tweets before 341784905258242047\n",
      "...344 tweets downloaded so far\n",
      "writen to file\n",
      "FredDeutsch\n",
      "account 2\n",
      "not protected\n",
      "getting tweets before 1258590760875839488\n",
      "...398 tweets downloaded so far\n",
      "getting tweets before 1247762398330552319\n",
      "...598 tweets downloaded so far\n",
      "getting tweets before 1241109215432904703\n",
      "...794 tweets downloaded so far\n",
      "getting tweets before 1219007264201302017\n",
      "...979 tweets downloaded so far\n",
      "getting tweets before 1198280394484830207\n",
      "...1172 tweets downloaded so far\n",
      "getting tweets before 1186058560125521925\n",
      "...1357 tweets downloaded so far\n",
      "getting tweets before 1177300218037059583\n",
      "...1547 tweets downloaded so far\n",
      "getting tweets before 1167943224150769663\n",
      "...1738 tweets downloaded so far\n",
      "getting tweets before 1149067827317477375\n",
      "...1929 tweets downloaded so far\n",
      "getting tweets before 1135828758957645823\n",
      "...2121 tweets downloaded so far\n",
      "getting tweets before 1129562457314349061\n",
      "...2311 tweets downloaded so far\n",
      "getting tweets before 1124989259100954623\n",
      "...2496 tweets downloaded so far\n",
      "getting tweets before 1120059683044245503\n",
      "...2687 tweets downloaded so far\n",
      "getting tweets before 1116727282234732544\n",
      "...2877 tweets downloaded so far\n",
      "getting tweets before 1113991516173864959\n",
      "...3072 tweets downloaded so far\n",
      "getting tweets before 1110562613224767494\n",
      "...3098 tweets downloaded so far\n",
      "getting tweets before 1110218884039221252\n",
      "...3098 tweets downloaded so far\n",
      "writen to file\n",
      "subhugesd\n",
      "account 3\n",
      "not protected\n",
      "getting tweets before 311260786389553151\n",
      "...41 tweets downloaded so far\n",
      "writen to file\n",
      "HermanOtten_\n",
      "account 4\n",
      "protected\n",
      "IsaacLatterell\n",
      "account 5\n",
      "not protected\n",
      "getting tweets before 1256065656862228484\n",
      "...400 tweets downloaded so far\n",
      "getting tweets before 1237245707029004287\n",
      "...600 tweets downloaded so far\n",
      "getting tweets before 1188834116625752063\n",
      "...800 tweets downloaded so far\n",
      "getting tweets before 647504020433584127\n",
      "...841 tweets downloaded so far\n",
      "getting tweets before 220621745672032255\n",
      "...841 tweets downloaded so far\n",
      "writen to file\n",
      "D7_Tim_Reed\n",
      "account 6\n",
      "not protected\n",
      "getting tweets before 1059542880409305089\n",
      "...399 tweets downloaded so far\n",
      "getting tweets before 878407070684413953\n",
      "...510 tweets downloaded so far\n",
      "getting tweets before 816379089313370111\n",
      "...510 tweets downloaded so far\n",
      "writen to file\n",
      "VoteForSaba\n",
      "account 7\n",
      "not protected\n",
      "account inactive\n",
      "MarkWilladsen\n",
      "account 8\n",
      "not protected\n",
      "zero tweets\n",
      "SuePetersonSD\n",
      "account 9\n",
      "not protected\n",
      "getting tweets before 774053904656900102\n",
      "...116 tweets downloaded so far\n",
      "writen to file\n",
      "hashtag605\n",
      "account 10\n",
      "not protected\n",
      "account inactive\n",
      "LarryZikmund\n",
      "account 11\n",
      "not protected\n",
      "zero tweets\n",
      "erin_healy\n",
      "account 12\n",
      "protected\n",
      "RepJamieSmith\n",
      "account 13\n",
      "not protected\n",
      "getting tweets before 1267295273946136582\n",
      "...7 tweets downloaded so far\n",
      "writen to file\n",
      "sdduba\n",
      "account 14\n",
      "not protected\n",
      "getting tweets before 1277326505803202562\n",
      "...400 tweets downloaded so far\n",
      "getting tweets before 1256747842355507201\n",
      "...600 tweets downloaded so far\n",
      "getting tweets before 1243700916454338566\n",
      "...800 tweets downloaded so far\n",
      "getting tweets before 1206354939225804801\n",
      "...999 tweets downloaded so far\n",
      "getting tweets before 1174613729796939776\n",
      "...1197 tweets downloaded so far\n",
      "getting tweets before 1155543910531231743\n",
      "...1395 tweets downloaded so far\n",
      "getting tweets before 1145704763541118976\n",
      "...1592 tweets downloaded so far\n",
      "getting tweets before 1128063777386135552\n",
      "...1787 tweets downloaded so far\n",
      "getting tweets before 1098077073279717377\n",
      "...1984 tweets downloaded so far\n",
      "getting tweets before 1076306535591088127\n",
      "...2183 tweets downloaded so far\n",
      "getting tweets before 1056245662214483968\n",
      "...2377 tweets downloaded so far\n",
      "getting tweets before 1043489135045091328\n",
      "...2570 tweets downloaded so far\n",
      "getting tweets before 1025973412613840895\n",
      "...2761 tweets downloaded so far\n",
      "getting tweets before 1011196085442875391\n",
      "...2957 tweets downloaded so far\n",
      "getting tweets before 1003486846595354623\n",
      "...3153 tweets downloaded so far\n",
      "getting tweets before 989013051344150532\n",
      "...3168 tweets downloaded so far\n",
      "getting tweets before 986768983704645632\n",
      "...3168 tweets downloaded so far\n",
      "writen to file\n",
      "kevinj605\n",
      "account 15\n",
      "protected\n",
      "RayRingforHouse\n",
      "account 16\n",
      "not protected\n",
      "account inactive\n",
      "HunhoffJean\n",
      "account 17\n",
      "not protected\n",
      "account inactive\n",
      "Kent4SD\n",
      "account 18\n",
      "not protected\n",
      "getting tweets before 974708413941809151\n",
      "...26 tweets downloaded so far\n",
      "writen to file\n",
      "SpencerGosch\n",
      "account 19\n",
      "not protected\n",
      "getting tweets before 642463927054417919\n",
      "...23 tweets downloaded so far\n",
      "writen to file\n",
      "MaryDuvall3\n",
      "account 20\n",
      "not protected\n",
      "getting tweets before 273826109009846271\n",
      "...83 tweets downloaded so far\n",
      "writen to file\n",
      "RepJonHansen\n",
      "account 21\n",
      "not protected\n",
      "getting tweets before 1155603675546603520\n",
      "...49 tweets downloaded so far\n",
      "writen to file\n",
      "OrenLesmeister\n",
      "account 22\n",
      "not protected\n",
      "account inactive\n",
      "SusanWismer\n",
      "account 23\n",
      "protected\n",
      "BrockGreenfield\n",
      "account 24\n",
      "not protected\n",
      "getting tweets before 348265014458712064\n",
      "...64 tweets downloaded so far\n",
      "writen to file\n",
      "dnovstrup\n",
      "account 25\n",
      "protected\n",
      "wiikfor4\n",
      "account 26\n",
      "not protected\n",
      "getting tweets before 950136732317573120\n",
      "...320 tweets downloaded so far\n",
      "getting tweets before 478001252547047423\n",
      "...320 tweets downloaded so far\n",
      "writen to file\n",
      "LeeSchoenbeck\n",
      "account 27\n",
      "not protected\n",
      "getting tweets before 1187351300415148032\n",
      "...398 tweets downloaded so far\n",
      "getting tweets before 1111082660896608259\n",
      "...597 tweets downloaded so far\n",
      "getting tweets before 1048526238585970687\n",
      "...797 tweets downloaded so far\n",
      "getting tweets before 991496896366678015\n",
      "...996 tweets downloaded so far\n",
      "getting tweets before 939615548270190591\n",
      "...1195 tweets downloaded so far\n",
      "getting tweets before 881611196771717119\n",
      "...1394 tweets downloaded so far\n",
      "getting tweets before 826607649697435649\n",
      "...1592 tweets downloaded so far\n",
      "getting tweets before 745263923750809599\n",
      "...1791 tweets downloaded so far\n",
      "getting tweets before 623828428672729091\n",
      "...1991 tweets downloaded so far\n",
      "getting tweets before 555822695904841727\n",
      "...2190 tweets downloaded so far\n",
      "getting tweets before 454789531837820927\n",
      "...2221 tweets downloaded so far\n",
      "getting tweets before 445396595904114687\n",
      "...2221 tweets downloaded so far\n",
      "writen to file\n",
      "Jordan4senate\n",
      "account 28\n",
      "not protected\n",
      "getting tweets before 750345421952724992\n",
      "...76 tweets downloaded so far\n",
      "writen to file\n",
      "repSteinhauer\n",
      "account 29\n",
      "not protected\n",
      "account inactive\n",
      "JimStalzer\n",
      "account 30\n",
      "not protected\n",
      "getting tweets before 235454470757163007\n",
      "...57 tweets downloaded so far\n",
      "writen to file\n",
      "BlakeCurd\n",
      "account 31\n",
      "not protected\n",
      "getting tweets before 892166331654586367\n",
      "...389 tweets downloaded so far\n",
      "getting tweets before 345595206386720768\n",
      "...589 tweets downloaded so far\n",
      "getting tweets before 12431361214\n",
      "...720 tweets downloaded so far\n",
      "getting tweets before 1137210832\n",
      "...720 tweets downloaded so far\n",
      "writen to file\n",
      "SenatorSoholt\n",
      "account 32\n",
      "not protected\n",
      "account inactive\n",
      "ReynoldNesiba\n",
      "account 33\n",
      "not protected\n",
      "getting tweets before 1138912464245051392\n",
      "...400 tweets downloaded so far\n",
      "getting tweets before 995154298341412863\n",
      "...600 tweets downloaded so far\n",
      "getting tweets before 912713109206372351\n",
      "...799 tweets downloaded so far\n",
      "getting tweets before 743838953699049471\n",
      "...903 tweets downloaded so far\n",
      "getting tweets before 541272573158244351\n",
      "...903 tweets downloaded so far\n",
      "writen to file\n",
      "VoteBolin\n",
      "account 34\n",
      "not protected\n",
      "account inactive\n",
      "CraigKennedySD\n",
      "account 35\n",
      "not protected\n",
      "account inactive\n",
      "JeffJeffmonroe\n",
      "account 36\n",
      "not protected\n",
      "account inactive\n",
      "tjl0025\n",
      "account 37\n",
      "not protected\n",
      "getting tweets before 443789361394380799\n",
      "...65 tweets downloaded so far\n",
      "writen to file\n",
      "RedDawn344\n",
      "account 38\n",
      "not protected\n",
      "getting tweets before 918345790732595199\n",
      "...14 tweets downloaded so far\n",
      "writen to file\n",
      "heleneduhamelTV\n",
      "account 39\n",
      "not protected\n",
      "getting tweets before 899675784360677376\n",
      "...400 tweets downloaded so far\n",
      "getting tweets before 875048370632609792\n",
      "...600 tweets downloaded so far\n",
      "getting tweets before 839911921553969152\n",
      "...800 tweets downloaded so far\n",
      "getting tweets before 792067656249581567\n",
      "...1000 tweets downloaded so far\n",
      "getting tweets before 756549512735264767\n",
      "...1200 tweets downloaded so far\n",
      "getting tweets before 736224744815484929\n"
     ]
    },
    {
     "name": "stdout",
     "output_type": "stream",
     "text": [
      "...1400 tweets downloaded so far\n",
      "getting tweets before 709850084037398527\n",
      "...1600 tweets downloaded so far\n",
      "getting tweets before 694666648775622656\n",
      "...1800 tweets downloaded so far\n",
      "getting tweets before 672450168344592383\n",
      "...2000 tweets downloaded so far\n",
      "getting tweets before 647186327545380864\n",
      "...2200 tweets downloaded so far\n",
      "getting tweets before 604326037040726017\n",
      "...2400 tweets downloaded so far\n",
      "getting tweets before 567764697568550911\n",
      "...2600 tweets downloaded so far\n",
      "getting tweets before 472496006005678079\n",
      "...2614 tweets downloaded so far\n",
      "getting tweets before 464828422196568063\n",
      "...2614 tweets downloaded so far\n",
      "writen to file\n",
      "PartridgeSD\n",
      "account 40\n",
      "not protected\n",
      "account inactive\n",
      "SenatorJessica\n",
      "account 41\n",
      "not protected\n",
      "getting tweets before 1273045378527424511\n",
      "...16 tweets downloaded so far\n",
      "writen to file\n"
     ]
    }
   ],
   "source": [
    "# run get_timeline() function to collect all tweets  \n",
    "i = 0\n",
    "for handle in handles_1:\n",
    "    print(handle)\n",
    "    print('account %s' %i)\n",
    "    \n",
    "    get_timeline(handle, state_name)\n",
    "    \n",
    "    i+=1\n",
    "        "
   ]
  },
  {
   "cell_type": "markdown",
   "metadata": {},
   "source": []
  },
  {
   "cell_type": "code",
   "execution_count": 100,
   "metadata": {},
   "outputs": [
    {
     "data": {
      "text/plain": [
       "1"
      ]
     },
     "execution_count": 100,
     "metadata": {},
     "output_type": "execute_result"
    }
   ],
   "source": [
    "# list with secondary handles \n",
    "handles_2 = df.loc[df.handle_2.isnull()==False, 'handle_2']\n",
    "# reset index \n",
    "handles_2 = handles_2.reset_index(drop=True)\n",
    "\n",
    "len(handles_2)"
   ]
  },
  {
   "cell_type": "code",
   "execution_count": 101,
   "metadata": {},
   "outputs": [
    {
     "data": {
      "text/plain": [
       "0    healyforhouse14\n",
       "Name: handle_2, dtype: object"
      ]
     },
     "execution_count": 101,
     "metadata": {},
     "output_type": "execute_result"
    }
   ],
   "source": [
    "handles_2"
   ]
  },
  {
   "cell_type": "code",
   "execution_count": null,
   "metadata": {},
   "outputs": [],
   "source": []
  },
  {
   "cell_type": "code",
   "execution_count": 102,
   "metadata": {},
   "outputs": [
    {
     "name": "stdout",
     "output_type": "stream",
     "text": [
      "healyforhouse14\n",
      "not protected\n",
      "account inactive\n"
     ]
    }
   ],
   "source": [
    "# collect tweets from secondary handles \n",
    "for handle in handles_2:\n",
    "    print(handle)\n",
    "    get_timeline(handle, state_name)\n",
    "    "
   ]
  },
  {
   "cell_type": "code",
   "execution_count": null,
   "metadata": {},
   "outputs": [],
   "source": []
  },
  {
   "cell_type": "code",
   "execution_count": null,
   "metadata": {},
   "outputs": [],
   "source": []
  },
  {
   "cell_type": "code",
   "execution_count": 103,
   "metadata": {},
   "outputs": [
    {
     "name": "stdout",
     "output_type": "stream",
     "text": [
      "South_Dakota_metadata_August01.csv\n"
     ]
    }
   ],
   "source": [
    "# After running the get_timeline() function find the metadata file \n",
    "meta_data = glob.glob('*metadata*.csv')[0]\n",
    "print(meta_data)\n"
   ]
  },
  {
   "cell_type": "code",
   "execution_count": 104,
   "metadata": {},
   "outputs": [],
   "source": [
    "# Find all active accounts\n",
    "meta_file = pd.read_csv(meta_data, header=None)\n",
    "\n",
    "active_accounts = meta_file[meta_file[7]=='active'][0]\n",
    "\n",
    "# reset index \n",
    "active_accounts = active_accounts.reset_index(drop=True)"
   ]
  },
  {
   "cell_type": "code",
   "execution_count": 105,
   "metadata": {},
   "outputs": [
    {
     "data": {
      "text/plain": [
       "0"
      ]
     },
     "execution_count": 105,
     "metadata": {},
     "output_type": "execute_result"
    }
   ],
   "source": [
    "\n",
    "retry_accounts = [x for x in handles_1.to_list() if x not in meta_file[0].to_list()]\n",
    "\n",
    "len(retry_accounts) \n",
    "\n",
    "\n"
   ]
  },
  {
   "cell_type": "code",
   "execution_count": 106,
   "metadata": {},
   "outputs": [
    {
     "data": {
      "text/plain": [
       "23"
      ]
     },
     "execution_count": 106,
     "metadata": {},
     "output_type": "execute_result"
    }
   ],
   "source": [
    "# check how many accounts are there \n",
    "len(active_accounts)"
   ]
  },
  {
   "cell_type": "code",
   "execution_count": 107,
   "metadata": {},
   "outputs": [
    {
     "name": "stdout",
     "output_type": "stream",
     "text": [
      "RepDrewDennert\n",
      "FredDeutsch\n",
      "subhugesd\n",
      "IsaacLatterell\n",
      "D7_Tim_Reed\n",
      "SuePetersonSD\n",
      "RepJamieSmith\n",
      "sdduba\n",
      "Kent4SD\n",
      "SpencerGosch\n",
      "MaryDuvall3\n",
      "RepJonHansen\n",
      "BrockGreenfield\n",
      "wiikfor4\n",
      "LeeSchoenbeck\n",
      "Jordan4senate\n"
     ]
    },
    {
     "name": "stderr",
     "output_type": "stream",
     "text": [
      "Rate limit reached. Sleeping for: 895\n"
     ]
    },
    {
     "name": "stdout",
     "output_type": "stream",
     "text": [
      "JimStalzer\n",
      "BlakeCurd\n",
      "ReynoldNesiba\n",
      "tjl0025\n",
      "RedDawn344\n",
      "heleneduhamelTV\n",
      "SenatorJessica\n"
     ]
    }
   ],
   "source": [
    "# collect friends \n",
    "\n",
    "len(active_accounts)\n",
    "for account in active_accounts:\n",
    "    print(account)\n",
    "    get_friend_ids(account)\n",
    "    \n",
    "\n",
    "\n"
   ]
  },
  {
   "cell_type": "code",
   "execution_count": null,
   "metadata": {},
   "outputs": [],
   "source": []
  },
  {
   "cell_type": "code",
   "execution_count": 109,
   "metadata": {},
   "outputs": [
    {
     "name": "stdout",
     "output_type": "stream",
     "text": [
      "Retry 0 accounts\n"
     ]
    }
   ],
   "source": [
    "# Retry accounts for which friends were not successfully collected  \n",
    "\n",
    "# Accounts for which friend Ids were successfully collected\n",
    "filepath_friends = glob.glob('*/*FriendsIds*.csv')\n",
    "\n",
    "if len(filepath_friends) > 0:\n",
    "    scarpe_friends = [name.split('/')[0] for name in filepath_friends]\n",
    "\n",
    "    # Accounts for which to retry collection \n",
    "    retry_friends = [x for x in active_accounts if x not in scarpe_friends]  \n",
    "    print('Retry %s accounts' %(len(retry_friends)))\n",
    "\n",
    "    while len(retry_friends) > 0:\n",
    "        for account in retry_friends:\n",
    "            print(account)\n",
    "            get_friend_ids(account)\n",
    "\n",
    "        filepath_friends = glob.glob('*/*FriendsIds*.csv')\n",
    "        scarped_friends = [name.split('/')[0] for name in filepath_friends]\n",
    "        retry_friends = [x for x in active_accounts if x not in scarped_friends]\n",
    "        print('Retry %s accounts' %(len(retry_friends)))\n",
    "    \n"
   ]
  },
  {
   "cell_type": "code",
   "execution_count": 110,
   "metadata": {},
   "outputs": [],
   "source": [
    "#CheckFind duplicates     \n",
    "# from collections import Counter\n",
    "#[k for k,v in Counter(scarped_accounts).items() if v>1]\n",
    "#print(len(retry_friends))"
   ]
  },
  {
   "cell_type": "code",
   "execution_count": 111,
   "metadata": {},
   "outputs": [
    {
     "name": "stdout",
     "output_type": "stream",
     "text": [
      "RepDrewDennert\n",
      "FredDeutsch\n",
      "subhugesd\n",
      "IsaacLatterell\n",
      "D7_Tim_Reed\n",
      "SuePetersonSD\n",
      "RepJamieSmith\n",
      "sdduba\n",
      "Kent4SD\n",
      "SpencerGosch\n",
      "MaryDuvall3\n",
      "RepJonHansen\n",
      "BrockGreenfield\n",
      "wiikfor4\n",
      "LeeSchoenbeck\n",
      "Jordan4senate\n"
     ]
    },
    {
     "name": "stderr",
     "output_type": "stream",
     "text": [
      "Rate limit reached. Sleeping for: 896\n"
     ]
    },
    {
     "name": "stdout",
     "output_type": "stream",
     "text": [
      "JimStalzer\n",
      "BlakeCurd\n",
      "ReynoldNesiba\n",
      "tjl0025\n",
      "RedDawn344\n",
      "heleneduhamelTV\n",
      "SenatorJessica\n"
     ]
    }
   ],
   "source": [
    "# Get followers of active accounts \n",
    "for account in active_accounts:\n",
    "        print(account)\n",
    "        get_follower_ids(account)\n",
    "        "
   ]
  },
  {
   "cell_type": "code",
   "execution_count": 10,
   "metadata": {},
   "outputs": [
    {
     "ename": "NameError",
     "evalue": "name 'active_accounts' is not defined",
     "output_type": "error",
     "traceback": [
      "\u001b[0;31m---------------------------------------------------------------------------\u001b[0m",
      "\u001b[0;31mNameError\u001b[0m                                 Traceback (most recent call last)",
      "\u001b[0;32m<ipython-input-10-eaa11670373e>\u001b[0m in \u001b[0;36m<module>\u001b[0;34m\u001b[0m\n\u001b[1;32m      8\u001b[0m \u001b[0;34m\u001b[0m\u001b[0m\n\u001b[1;32m      9\u001b[0m      \u001b[0;31m# Accounts for which to retry collection\u001b[0m\u001b[0;34m\u001b[0m\u001b[0;34m\u001b[0m\u001b[0;34m\u001b[0m\u001b[0m\n\u001b[0;32m---> 10\u001b[0;31m     \u001b[0mretry_followers\u001b[0m \u001b[0;34m=\u001b[0m \u001b[0;34m[\u001b[0m\u001b[0mx\u001b[0m \u001b[0;32mfor\u001b[0m \u001b[0mx\u001b[0m \u001b[0;32min\u001b[0m \u001b[0mactive_accounts\u001b[0m \u001b[0;32mif\u001b[0m \u001b[0mx\u001b[0m \u001b[0;32mnot\u001b[0m \u001b[0;32min\u001b[0m \u001b[0mscarped_followers\u001b[0m\u001b[0;34m]\u001b[0m\u001b[0;34m\u001b[0m\u001b[0;34m\u001b[0m\u001b[0m\n\u001b[0m\u001b[1;32m     11\u001b[0m     \u001b[0mprint\u001b[0m\u001b[0;34m(\u001b[0m\u001b[0;34m'Retry %s accounts'\u001b[0m \u001b[0;34m%\u001b[0m\u001b[0;34m(\u001b[0m\u001b[0mlen\u001b[0m\u001b[0;34m(\u001b[0m\u001b[0mretry_followers\u001b[0m\u001b[0;34m)\u001b[0m\u001b[0;34m)\u001b[0m\u001b[0;34m)\u001b[0m\u001b[0;34m\u001b[0m\u001b[0;34m\u001b[0m\u001b[0m\n\u001b[1;32m     12\u001b[0m \u001b[0;34m\u001b[0m\u001b[0m\n",
      "\u001b[0;31mNameError\u001b[0m: name 'active_accounts' is not defined"
     ]
    }
   ],
   "source": [
    "# Retry accounts for which followers were not successfully collected  \n",
    "\n",
    "# Accounts for which follower Ids were successfully collected\n",
    "filepath_followers = glob.glob('*/*FollowerIds*.csv')\n",
    "\n",
    "if len(filepath_followers) > 0:\n",
    "    scarped_followers = [name.split('/')[0] for name in filepath_followers]\n",
    "\n",
    "     # Accounts for which to retry collection  \n",
    "    retry_followers = [x for x in active_accounts if x not in scarped_followers]  \n",
    "    print('Retry %s accounts' %(len(retry_followers)))\n",
    "\n",
    "    while len(retry_followers) > 0:\n",
    "        for account in retry_followers:\n",
    "            print(account)\n",
    "            get_follower_ids(account)\n",
    "\n",
    "        filepath_followers = glob.glob('*/*FollowerIds*.csv')\n",
    "        scarped_followers = [name.split('/')[0] for name in filepath_followers]\n",
    "        retry_followers = [x for x in active_accounts if x not in scarped_followers]\n",
    "        print('Retry %s accounts' %(len(retry_followers)))\n",
    "        \n",
    "    print('All followers collected')\n",
    "    \n",
    "    \n",
    "        \n",
    "\n",
    "# #Find duplicates     \n",
    "# #from collections import Counter\n",
    "# #[k for k,v in Counter(scarped_followers).items() if v>1]\n",
    "# #len(retry_followers)"
   ]
  },
  {
   "cell_type": "code",
   "execution_count": null,
   "metadata": {},
   "outputs": [],
   "source": []
  },
  {
   "cell_type": "code",
   "execution_count": 85,
   "metadata": {
    "scrolled": true
   },
   "outputs": [
    {
     "data": {
      "text/plain": [
       "101"
      ]
     },
     "execution_count": 85,
     "metadata": {},
     "output_type": "execute_result"
    }
   ],
   "source": [
    "# check number of tweets scraped \n",
    "tl = glob.glob('*/*_Tweets_*')\n",
    "len(tl)"
   ]
  },
  {
   "cell_type": "code",
   "execution_count": 86,
   "metadata": {},
   "outputs": [
    {
     "data": {
      "text/plain": [
       "101"
      ]
     },
     "execution_count": 86,
     "metadata": {},
     "output_type": "execute_result"
    }
   ],
   "source": [
    "# check number of followers scraped \n",
    "tf = glob.glob('*/*_FollowerIds_*')\n",
    "len(tf)"
   ]
  },
  {
   "cell_type": "code",
   "execution_count": 87,
   "metadata": {},
   "outputs": [
    {
     "data": {
      "text/plain": [
       "101"
      ]
     },
     "execution_count": 87,
     "metadata": {},
     "output_type": "execute_result"
    }
   ],
   "source": [
    "# check number of friends scraped \n",
    "tfr = glob.glob('*/*_FriendsIds_*')\n",
    "len(tfr)\n"
   ]
  },
  {
   "cell_type": "code",
   "execution_count": null,
   "metadata": {},
   "outputs": [],
   "source": []
  }
 ],
 "metadata": {
  "kernelspec": {
   "display_name": "Python 3",
   "language": "python",
   "name": "python3"
  },
  "language_info": {
   "codemirror_mode": {
    "name": "ipython",
    "version": 3
   },
   "file_extension": ".py",
   "mimetype": "text/x-python",
   "name": "python",
   "nbconvert_exporter": "python",
   "pygments_lexer": "ipython3",
   "version": "3.7.4"
  }
 },
 "nbformat": 4,
 "nbformat_minor": 2
}

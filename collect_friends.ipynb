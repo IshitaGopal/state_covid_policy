{
 "cells": [
  {
   "cell_type": "code",
   "execution_count": 1,
   "metadata": {},
   "outputs": [],
   "source": [
    "import pandas as pd\n",
    "import os \n",
    "import glob"
   ]
  },
  {
   "cell_type": "code",
   "execution_count": 2,
   "metadata": {},
   "outputs": [],
   "source": [
    "pd.set_option('display.max_rows',100)"
   ]
  },
  {
   "cell_type": "code",
   "execution_count": 4,
   "metadata": {},
   "outputs": [],
   "source": [
    "# set to main directory --- Will have to be set \n",
    "os.chdir('/Users/ishitagopal/Box/Projects/state_covid_policy/code')"
   ]
  },
  {
   "cell_type": "code",
   "execution_count": 5,
   "metadata": {},
   "outputs": [],
   "source": [
    "# import helper functions from twitter_api_helper_functions\n",
    "%run twitter_api_helper_functions.ipynb\n"
   ]
  },
  {
   "cell_type": "code",
   "execution_count": 6,
   "metadata": {},
   "outputs": [],
   "source": [
    "# Function for navigating to the state folder --- Will have to be set\n",
    "# Assumes state directory already exists \n",
    "def cd(state):\n",
    "    os.chdir('/Users/ishitagopal/Box/Projects/state_covid_policy/Data/%s' % state)"
   ]
  },
  {
   "cell_type": "code",
   "execution_count": 8,
   "metadata": {},
   "outputs": [
    {
     "data": {
      "text/plain": [
       "'/Users/ishitagopal/Box/Projects/state_covid_policy/Data/Texas'"
      ]
     },
     "execution_count": 8,
     "metadata": {},
     "output_type": "execute_result"
    }
   ],
   "source": [
    "# Input state name for which tweets, followers and friends have to be collected \n",
    "state_name = 'Texas'\n",
    "\n",
    "# change folder to State's folder\n",
    "cd(state_name)\n",
    "\n",
    "# check path if path was correctly assigned \n",
    "os.getcwd()\n"
   ]
  },
  {
   "cell_type": "code",
   "execution_count": 9,
   "metadata": {},
   "outputs": [
    {
     "name": "stdout",
     "output_type": "stream",
     "text": [
      "Texas_metadata_August05.csv\n"
     ]
    }
   ],
   "source": [
    "# After running the get_timeline() function find the metadata file \n",
    "meta_data = glob.glob('*metadata*.csv')[0]\n",
    "print(meta_data)\n"
   ]
  },
  {
   "cell_type": "code",
   "execution_count": 11,
   "metadata": {},
   "outputs": [],
   "source": [
    "# Find all active accounts\n",
    "meta_file = pd.read_csv(meta_data, header=None)\n",
    "\n",
    "active_accounts = meta_file[meta_file[7]=='active'][0]\n",
    "\n",
    "# reset index \n",
    "active_accounts = active_accounts.reset_index(drop=True)"
   ]
  },
  {
   "cell_type": "code",
   "execution_count": 12,
   "metadata": {},
   "outputs": [
    {
     "data": {
      "text/plain": [
       "156"
      ]
     },
     "execution_count": 12,
     "metadata": {},
     "output_type": "execute_result"
    }
   ],
   "source": [
    "len(active_accounts)"
   ]
  },
  {
   "cell_type": "code",
   "execution_count": null,
   "metadata": {},
   "outputs": [],
   "source": [
    "# collect friends \n",
    "\n",
    "len(active_accounts)\n",
    "for account in active_accounts:\n",
    "    print(account)\n",
    "    get_friend_ids(account)\n",
    "    \n",
    "\n",
    "\n"
   ]
  },
  {
   "cell_type": "code",
   "execution_count": null,
   "metadata": {},
   "outputs": [],
   "source": [
    "# Retry accounts for which friends were not successfully collected  \n",
    "\n",
    "# Accounts for which friend Ids were successfully collected\n",
    "filepath_friends = glob.glob('*/*FriendsIds*.csv')\n",
    "\n",
    "if len(filepath_friends) > 0:\n",
    "    scarpe_friends = [name.split('/')[0] for name in filepath_friends]\n",
    "\n",
    "    # Accounts for which to retry collection \n",
    "    retry_friends = [x for x in active_accounts if x not in scarpe_friends]  \n",
    "    print('Retry %s accounts' %(len(retry_friends)))\n",
    "\n",
    "    while len(retry_friends) > 0:\n",
    "        for account in retry_friends:\n",
    "            print(account)\n",
    "            get_friend_ids(account)\n",
    "\n",
    "        filepath_friends = glob.glob('*/*FriendsIds*.csv')\n",
    "        scarped_friends = [name.split('/')[0] for name in filepath_friends]\n",
    "        retry_friends = [x for x in active_accounts if x not in scarped_friends]\n",
    "        print('Retry %s accounts' %(len(retry_friends)))\n",
    "    \n"
   ]
  }
 ],
 "metadata": {
  "kernelspec": {
   "display_name": "Python 3",
   "language": "python",
   "name": "python3"
  },
  "language_info": {
   "codemirror_mode": {
    "name": "ipython",
    "version": 3
   },
   "file_extension": ".py",
   "mimetype": "text/x-python",
   "name": "python",
   "nbconvert_exporter": "python",
   "pygments_lexer": "ipython3",
   "version": "3.7.4"
  }
 },
 "nbformat": 4,
 "nbformat_minor": 2
}

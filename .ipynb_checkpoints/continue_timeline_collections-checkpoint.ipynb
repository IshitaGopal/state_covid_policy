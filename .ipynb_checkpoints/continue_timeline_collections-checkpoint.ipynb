{
 "cells": [
  {
   "cell_type": "code",
   "execution_count": 592,
   "metadata": {},
   "outputs": [],
   "source": [
    "import os\n",
    "import glob\n",
    "import datetime\n",
    "import pandas as pd\n",
    "\n"
   ]
  },
  {
   "cell_type": "code",
   "execution_count": 593,
   "metadata": {},
   "outputs": [],
   "source": [
    "# Import helper functions\n",
    "os.chdir('/Users/ishitagopal/Box/Projects/state_covid_policy/code/')\n",
    "%run twitter_api_helper_functions.ipynb"
   ]
  },
  {
   "cell_type": "code",
   "execution_count": 594,
   "metadata": {},
   "outputs": [],
   "source": [
    "# Set to main directory \n",
    "os.chdir('/Users/ishitagopal/Box/Projects/state_covid_policy/')"
   ]
  },
  {
   "cell_type": "code",
   "execution_count": 595,
   "metadata": {},
   "outputs": [],
   "source": [
    "# Import all metadata files \n",
    "meta_files = glob.glob('Data/*/*_metadata_*.csv')\n",
    "\n",
    "meta_li =[]\n",
    "for file in meta_files:\n",
    "    df = pd.read_csv(file, header = None)\n",
    "    df['state'] = file.split('/')[1]\n",
    "    meta_li.append(df)"
   ]
  },
  {
   "cell_type": "code",
   "execution_count": 596,
   "metadata": {},
   "outputs": [],
   "source": [
    "\n",
    "all_meta = pd.concat(meta_li, axis=0, ignore_index=True, sort=False)\n",
    "\n",
    "#Columns in the first metadata file \n",
    "all_meta.columns = ['screen_name', \n",
    "                       'account_id',\n",
    "                       'date_scraped',\n",
    "                       'latest_tweet_id', \n",
    "                       'total_tweets', \n",
    "                       'last_week_total_tweets',\n",
    "                       'active_since', \n",
    "                       'active', \n",
    "                       'state']\n",
    "\n",
    "# Metadata \n",
    "# metadata_df.columns = ['screen_name', \n",
    "#                        'date_scraped',\n",
    "#                        'latest_tweet_id', \n",
    "#                        'total_tweets',  \n",
    "#                        'active', \n",
    "#                        'state']\n",
    "\n",
    "# cols = [\"date_scraped\", \"latest_tweet_id\", \"total_tweets\", \"active\"]\n",
    "# Metadata file number and column names\n",
    "#metadata_num = 'metadata_R2'"
   ]
  },
  {
   "cell_type": "code",
   "execution_count": 602,
   "metadata": {},
   "outputs": [],
   "source": [
    "# Subset to include only active accounts\n",
    "active_meta = all_meta.loc[all_meta.active=='active',:].copy()"
   ]
  },
  {
   "cell_type": "code",
   "execution_count": 604,
   "metadata": {},
   "outputs": [
    {
     "data": {
      "text/plain": [
       "screen_name                       object\n",
       "account_id                         int64\n",
       "date_scraped              datetime64[ns]\n",
       "latest_tweet_id                    int64\n",
       "total_tweets                      object\n",
       "last_week_total_tweets           float64\n",
       "active_since                      object\n",
       "active                            object\n",
       "state                             object\n",
       "dtype: object"
      ]
     },
     "execution_count": 604,
     "metadata": {},
     "output_type": "execute_result"
    }
   ],
   "source": [
    "# Assign data types\n",
    "active_meta['date_scraped'] = pd.to_datetime(active_meta['date_scraped'])\n",
    "active_meta[\"account_id\"] = active_meta[\"account_id\"].astype(int)\n",
    "active_meta[\"latest_tweet_id\"] = active_meta[\"latest_tweet_id\"].astype(int)\n",
    "\n",
    "active_meta.dtypes"
   ]
  },
  {
   "cell_type": "code",
   "execution_count": 605,
   "metadata": {},
   "outputs": [
    {
     "data": {
      "text/plain": [
       "active    3816\n",
       "Name: active, dtype: int64"
      ]
     },
     "execution_count": 605,
     "metadata": {},
     "output_type": "execute_result"
    }
   ],
   "source": [
    "# Number of active accounts v/s other categories\n",
    "active_meta.active.value_counts()"
   ]
  },
  {
   "cell_type": "code",
   "execution_count": 606,
   "metadata": {},
   "outputs": [
    {
     "data": {
      "text/plain": [
       "Pennsylvania      184\n",
       "New_York          167\n",
       "Massachusetts     157\n",
       "Texas             156\n",
       "Minnesota         148\n",
       "New_Hampshire     138\n",
       "Georgia           135\n",
       "Florida           132\n",
       "Maryland          128\n",
       "Missouri          126\n",
       "North_Carolina    118\n",
       "Illinois          116\n",
       "California        115\n",
       "Virginia          105\n",
       "South_Carolina    101\n",
       "Ohio              100\n",
       "Michigan           93\n",
       "Kentucky           87\n",
       "Connecticut        83\n",
       "Colorado           83\n",
       "Tennessee          83\n",
       "New_Jersy          82\n",
       "Arizona            78\n",
       "Louisiana          78\n",
       "Washington         77\n",
       "Arkansas           77\n",
       "Mississippi        74\n",
       "Indiana            74\n",
       "Kansas             71\n",
       "Rhode_Island       68\n",
       "Utah               63\n",
       "New_Mexico         60\n",
       "Nevada             56\n",
       "Alabama            54\n",
       "Oregon             53\n",
       "Montana            47\n",
       "Maine              44\n",
       "Idaho              31\n",
       "Vermont            31\n",
       "North_Dakota       28\n",
       "Hawaii             25\n",
       "Alaska             24\n",
       "South_Dakota       23\n",
       "Nebraska           22\n",
       "Delaware           21\n",
       "Name: state, dtype: int64"
      ]
     },
     "execution_count": 606,
     "metadata": {},
     "output_type": "execute_result"
    }
   ],
   "source": [
    "# Number of active accounts in each State \n",
    "active_meta.state.value_counts()"
   ]
  },
  {
   "cell_type": "code",
   "execution_count": 607,
   "metadata": {},
   "outputs": [
    {
     "data": {
      "text/plain": [
       "197.28571428571428"
      ]
     },
     "execution_count": 607,
     "metadata": {},
     "output_type": "execute_result"
    }
   ],
   "source": [
    "# Maximum number tweets sent in a day \n",
    "max(active_meta.last_week_total_tweets)/7"
   ]
  },
  {
   "cell_type": "code",
   "execution_count": 610,
   "metadata": {},
   "outputs": [
    {
     "data": {
      "text/plain": [
       "87"
      ]
     },
     "execution_count": 610,
     "metadata": {},
     "output_type": "execute_result"
    }
   ],
   "source": [
    "# Total number of legislators who tweet more than a 100 times in a week\n",
    "active_meta[active_meta.last_week_total_tweets > 100]['state'].value_counts().sum()"
   ]
  },
  {
   "cell_type": "code",
   "execution_count": 611,
   "metadata": {},
   "outputs": [
    {
     "data": {
      "text/plain": [
       "Arizona           9\n",
       "Texas             7\n",
       "Minnesota         7\n",
       "New_Hampshire     7\n",
       "New_Mexico        6\n",
       "New_York          4\n",
       "Colorado          4\n",
       "California        3\n",
       "Florida           3\n",
       "Massachusetts     3\n",
       "Kentucky          3\n",
       "Tennessee         3\n",
       "Delaware          2\n",
       "Ohio              2\n",
       "Georgia           2\n",
       "Arkansas          2\n",
       "North_Carolina    2\n",
       "Alabama           2\n",
       "Maryland          2\n",
       "Pennsylvania      2\n",
       "Nebraska          1\n",
       "Nevada            1\n",
       "Washington        1\n",
       "Oregon            1\n",
       "Indiana           1\n",
       "South_Carolina    1\n",
       "Vermont           1\n",
       "Missouri          1\n",
       "Virginia          1\n",
       "Illinois          1\n",
       "Mississippi       1\n",
       "Rhode_Island      1\n",
       "Name: state, dtype: int64"
      ]
     },
     "execution_count": 611,
     "metadata": {},
     "output_type": "execute_result"
    }
   ],
   "source": [
    "# Distribution by State \n",
    "active_meta[active_meta.last_week_total_tweets > 100]['state'].value_counts()"
   ]
  },
  {
   "cell_type": "code",
   "execution_count": 612,
   "metadata": {},
   "outputs": [],
   "source": [
    "# State names\n",
    "States = all_meta.state.value_counts().index.to_list()\n"
   ]
  },
  {
   "cell_type": "code",
   "execution_count": 556,
   "metadata": {},
   "outputs": [],
   "source": [
    "# Identify States for which to collect tweets \n",
    "# Pinpoints when 15 days have passed since the last download\n",
    "\n",
    "today = datetime.datetime.today()\n",
    "days_elapsed = today - df_active_metadata.date_scraped\n",
    "df_collect = df_active_metadata[days_elapsed.dt.days > 15]\n",
    "\n",
    "if df_collect.shape[0]>0:\n",
    "    \n",
    "    States = sorted(df_collect.state.value_counts().index.to_list())\n",
    "    "
   ]
  },
  {
   "cell_type": "code",
   "execution_count": 557,
   "metadata": {
    "scrolled": true
   },
   "outputs": [
    {
     "data": {
      "text/plain": [
       "['Alabama',\n",
       " 'Alaska',\n",
       " 'Arizona',\n",
       " 'Arkansas',\n",
       " 'California',\n",
       " 'Colorado',\n",
       " 'Connecticut',\n",
       " 'Delaware',\n",
       " 'Florida',\n",
       " 'Georgia',\n",
       " 'Hawaii',\n",
       " 'Idaho',\n",
       " 'Illinois',\n",
       " 'Indiana',\n",
       " 'Kansas',\n",
       " 'Kentucky',\n",
       " 'Louisiana',\n",
       " 'Maine',\n",
       " 'Maryland',\n",
       " 'Massachusetts',\n",
       " 'Michigan',\n",
       " 'Minnesota',\n",
       " 'Mississippi',\n",
       " 'Missouri',\n",
       " 'Montana',\n",
       " 'Nebraska',\n",
       " 'Nevada',\n",
       " 'New_Hampshire',\n",
       " 'New_Jersy',\n",
       " 'New_Mexico',\n",
       " 'New_York',\n",
       " 'North_Carolina',\n",
       " 'North_Dakota',\n",
       " 'Ohio']"
      ]
     },
     "execution_count": 557,
     "metadata": {},
     "output_type": "execute_result"
    }
   ],
   "source": [
    "States"
   ]
  },
  {
   "cell_type": "code",
   "execution_count": 659,
   "metadata": {},
   "outputs": [],
   "source": [
    "state = 'New_York'\n",
    "# Navigate to State folder\n",
    "path_state = (\"/Users/ishitagopal/Box/Projects/state_covid_policy/Data/\" + state)\n",
    "os.chdir(path_state)"
   ]
  },
  {
   "cell_type": "code",
   "execution_count": 673,
   "metadata": {},
   "outputs": [
    {
     "name": "stdout",
     "output_type": "stream",
     "text": [
      "New_York_metadata_R2.csv\n",
      "File already exists\n",
      "2\n"
     ]
    }
   ],
   "source": [
    "# Check if metadata file exists, else create one \n",
    "fname = '%s_' % state + metadata_num +'.csv'\n",
    "print(fname)\n",
    "\n",
    "# Subset to state dataframe\n",
    "state_meta = active_meta.loc[active_meta['state']==state,:] \n",
    "\n",
    "# Create metadata file if it doesnt exist \n",
    "if os.path.exists(fname)==True:\n",
    "    print('File already exists')\n",
    "    df = pd.read_csv(fmeta[0], index_col=0)\n",
    "    handles = df.loc[df['active'].isnull(),:].index.to_list()\n",
    "    since_id = state_meta.loc[state_meta['screen_name'].isin(handles), 'latest_tweet_id'].to_list()\n",
    "    print(len(handles))\n",
    "    \n",
    "else:\n",
    "    print('Creating file')\n",
    "    handles = state_meta['screen_name'].to_list()\n",
    "    since_id = state_meta['latest_tweet_id'].to_list()\n",
    "    df = pd.DataFrame(columns=cols,index=handles)\n",
    "    df.to_csv(fname)\n",
    "    print(len(handles))"
   ]
  },
  {
   "cell_type": "code",
   "execution_count": 672,
   "metadata": {},
   "outputs": [
    {
     "ename": "SyntaxError",
     "evalue": "invalid syntax (<ipython-input-672-68c7c0f9015d>, line 4)",
     "output_type": "error",
     "traceback": [
      "\u001b[0;36m  File \u001b[0;32m\"<ipython-input-672-68c7c0f9015d>\"\u001b[0;36m, line \u001b[0;32m4\u001b[0m\n\u001b[0;31m    metadata = pd.read_csv(fname, index_col=0)\u001b[0m\n\u001b[0m           ^\u001b[0m\n\u001b[0;31mSyntaxError\u001b[0m\u001b[0;31m:\u001b[0m invalid syntax\n"
     ]
    }
   ],
   "source": [
    "for i in range(0,len(handles)):    \n",
    "    \n",
    "    print('Handle name: %s, Handle name: %s' % (i, handles[i]))\n",
    "    \n",
    "    # Read metadata csv \n",
    "    metadata = pd.read_csv(fname, index_col=0)\n",
    "\n",
    "    # Download tweets\n",
    "    results = get_timeline_since(handles[i], since_id[i])\n",
    "    len(results['tweets'])\n",
    "    metadata.loc[handles[i]] = results['metadata'][1:5]\n",
    "\n",
    "    if len(results['tweets']) > 0:\n",
    "\n",
    "        # Dump tweets to file\n",
    "        date = today.strftime(\"%B%d\") \n",
    "        file_name =  '%s/' % handles[i] + '%s_Tweets_%s' % (handles[i], date) + '.json'\n",
    "        print(file_name)\n",
    "        with open(file_name , 'w', encoding='utf8') as file:\n",
    "            json.dump([tweet._json for tweet in results['tweets']], file)\n",
    "            print(\"writen to file\")\n",
    "\n",
    "    metadata.to_csv(fname)"
   ]
  },
  {
   "cell_type": "code",
   "execution_count": 481,
   "metadata": {},
   "outputs": [
    {
     "data": {
      "text/plain": [
       "(30, 64)"
      ]
     },
     "execution_count": 481,
     "metadata": {},
     "output_type": "execute_result"
    }
   ],
   "source": [
    "#New york \n",
    "30, 64"
   ]
  },
  {
   "cell_type": "code",
   "execution_count": 499,
   "metadata": {},
   "outputs": [
    {
     "ename": "AttributeError",
     "evalue": "'DataFrame' object has no attribute 'active'",
     "output_type": "error",
     "traceback": [
      "\u001b[0;31m---------------------------------------------------------------------------\u001b[0m",
      "\u001b[0;31mAttributeError\u001b[0m                            Traceback (most recent call last)",
      "\u001b[0;32m<ipython-input-499-91102fc5bd36>\u001b[0m in \u001b[0;36m<module>\u001b[0;34m\u001b[0m\n\u001b[0;32m----> 1\u001b[0;31m \u001b[0mmetadata\u001b[0m\u001b[0;34m.\u001b[0m\u001b[0mactive\u001b[0m\u001b[0;34m.\u001b[0m\u001b[0misna\u001b[0m\u001b[0;34m(\u001b[0m\u001b[0;34m)\u001b[0m\u001b[0;34m.\u001b[0m\u001b[0msum\u001b[0m\u001b[0;34m(\u001b[0m\u001b[0;34m)\u001b[0m\u001b[0;34m\u001b[0m\u001b[0;34m\u001b[0m\u001b[0m\n\u001b[0m",
      "\u001b[0;32m~/opt/anaconda3/lib/python3.7/site-packages/pandas/core/generic.py\u001b[0m in \u001b[0;36m__getattr__\u001b[0;34m(self, name)\u001b[0m\n\u001b[1;32m   5177\u001b[0m             \u001b[0;32mif\u001b[0m \u001b[0mself\u001b[0m\u001b[0;34m.\u001b[0m\u001b[0m_info_axis\u001b[0m\u001b[0;34m.\u001b[0m\u001b[0m_can_hold_identifiers_and_holds_name\u001b[0m\u001b[0;34m(\u001b[0m\u001b[0mname\u001b[0m\u001b[0;34m)\u001b[0m\u001b[0;34m:\u001b[0m\u001b[0;34m\u001b[0m\u001b[0;34m\u001b[0m\u001b[0m\n\u001b[1;32m   5178\u001b[0m                 \u001b[0;32mreturn\u001b[0m \u001b[0mself\u001b[0m\u001b[0;34m[\u001b[0m\u001b[0mname\u001b[0m\u001b[0;34m]\u001b[0m\u001b[0;34m\u001b[0m\u001b[0;34m\u001b[0m\u001b[0m\n\u001b[0;32m-> 5179\u001b[0;31m             \u001b[0;32mreturn\u001b[0m \u001b[0mobject\u001b[0m\u001b[0;34m.\u001b[0m\u001b[0m__getattribute__\u001b[0m\u001b[0;34m(\u001b[0m\u001b[0mself\u001b[0m\u001b[0;34m,\u001b[0m \u001b[0mname\u001b[0m\u001b[0;34m)\u001b[0m\u001b[0;34m\u001b[0m\u001b[0;34m\u001b[0m\u001b[0m\n\u001b[0m\u001b[1;32m   5180\u001b[0m \u001b[0;34m\u001b[0m\u001b[0m\n\u001b[1;32m   5181\u001b[0m     \u001b[0;32mdef\u001b[0m \u001b[0m__setattr__\u001b[0m\u001b[0;34m(\u001b[0m\u001b[0mself\u001b[0m\u001b[0;34m,\u001b[0m \u001b[0mname\u001b[0m\u001b[0;34m,\u001b[0m \u001b[0mvalue\u001b[0m\u001b[0;34m)\u001b[0m\u001b[0;34m:\u001b[0m\u001b[0;34m\u001b[0m\u001b[0;34m\u001b[0m\u001b[0m\n",
      "\u001b[0;31mAttributeError\u001b[0m: 'DataFrame' object has no attribute 'active'"
     ]
    }
   ],
   "source": [
    "metadata.active.isna().sum() "
   ]
  },
  {
   "cell_type": "code",
   "execution_count": 483,
   "metadata": {},
   "outputs": [
    {
     "data": {
      "text/plain": [
       "active                                          99\n",
       "[{'code': 50, 'message': 'User not found.'}]     1\n",
       "Name: active, dtype: int64"
      ]
     },
     "execution_count": 483,
     "metadata": {},
     "output_type": "execute_result"
    }
   ],
   "source": [
    "# Number of active accounts\n",
    "metadata.active.value_counts()\n"
   ]
  },
  {
   "cell_type": "code",
   "execution_count": 498,
   "metadata": {},
   "outputs": [
    {
     "data": {
      "text/plain": [
       "0"
      ]
     },
     "execution_count": 498,
     "metadata": {},
     "output_type": "execute_result"
    }
   ],
   "source": [
    "# Number of accounts with 0 tweets\n",
    "sum(metadata.total_tweets.value_counts()==0)"
   ]
  },
  {
   "cell_type": "code",
   "execution_count": null,
   "metadata": {},
   "outputs": [],
   "source": []
  }
 ],
 "metadata": {
  "kernelspec": {
   "display_name": "Python 3",
   "language": "python",
   "name": "python3"
  },
  "language_info": {
   "codemirror_mode": {
    "name": "ipython",
    "version": 3
   },
   "file_extension": ".py",
   "mimetype": "text/x-python",
   "name": "python",
   "nbconvert_exporter": "python",
   "pygments_lexer": "ipython3",
   "version": "3.7.4"
  }
 },
 "nbformat": 4,
 "nbformat_minor": 2
}

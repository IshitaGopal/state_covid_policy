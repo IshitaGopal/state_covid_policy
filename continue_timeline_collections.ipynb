{
 "cells": [
  {
   "cell_type": "code",
   "execution_count": 693,
   "metadata": {},
   "outputs": [],
   "source": [
    "import os\n",
    "import datetime\n",
    "import glob\n",
    "import pandas as pd"
   ]
  },
  {
   "cell_type": "code",
   "execution_count": 694,
   "metadata": {},
   "outputs": [],
   "source": [
    "# Import helper functions\n",
    "os.chdir('/Users/ishitagopal/Box/Projects/state_covid_policy/code/')\n",
    "%run twitter_api_helper_functions.ipynb"
   ]
  },
  {
   "cell_type": "code",
   "execution_count": 726,
   "metadata": {},
   "outputs": [],
   "source": [
    "# Set to main directory \n",
    "os.chdir('/Users/ishitagopal/Box/Projects/state_covid_policy/')"
   ]
  },
  {
   "cell_type": "code",
   "execution_count": 728,
   "metadata": {},
   "outputs": [],
   "source": [
    "# Metadata round to use (example: _metadata_, _metadata_R2,  )\n",
    "metaUse = '_metadata_'  # -- Needs to be assigned\n",
    "\n",
    "fname1 = 'Data/*/*'+ metaUse + '*.csv'\n",
    "\n",
    "# Import all files and combine them \n",
    "meta_files = glob.glob(fname1)\n",
    "\n",
    "meta_li =[]\n",
    "for file in meta_files:\n",
    "    df = pd.read_csv(file, header = None)\n",
    "    df['state'] = file.split('/')[1]\n",
    "    meta_li.append(df)\n",
    "    \n",
    "meta = pd.concat(meta_li, axis=0, ignore_index=True, sort=False)\n",
    "    "
   ]
  },
  {
   "cell_type": "code",
   "execution_count": null,
   "metadata": {},
   "outputs": [],
   "source": []
  },
  {
   "cell_type": "code",
   "execution_count": 697,
   "metadata": {},
   "outputs": [],
   "source": [
    "# Metadata column name types: -- Uncomment the relevant choice \n",
    "\n",
    "# Type 1\n",
    "get_timeline_cols = ['screen_name', 'account_id', 'date_scraped','latest_tweet_id', \n",
    "                    'total_tweets', 'last_week_total_tweets', 'active_since', \n",
    "                    'active', 'state']\n",
    "\n",
    "# # Type 2\n",
    "# get_timeline_since_cols = ['screen_name', 'date_scraped', 'latest_tweet_id', \n",
    "#                            'total_tweets', 'active', 'state']\n"
   ]
  },
  {
   "cell_type": "code",
   "execution_count": 702,
   "metadata": {},
   "outputs": [
    {
     "data": {
      "text/html": [
       "<div>\n",
       "<style scoped>\n",
       "    .dataframe tbody tr th:only-of-type {\n",
       "        vertical-align: middle;\n",
       "    }\n",
       "\n",
       "    .dataframe tbody tr th {\n",
       "        vertical-align: top;\n",
       "    }\n",
       "\n",
       "    .dataframe thead th {\n",
       "        text-align: right;\n",
       "    }\n",
       "</style>\n",
       "<table border=\"1\" class=\"dataframe\">\n",
       "  <thead>\n",
       "    <tr style=\"text-align: right;\">\n",
       "      <th></th>\n",
       "      <th>screen_name</th>\n",
       "      <th>account_id</th>\n",
       "      <th>date_scraped</th>\n",
       "      <th>latest_tweet_id</th>\n",
       "      <th>total_tweets</th>\n",
       "      <th>last_week_total_tweets</th>\n",
       "      <th>active_since</th>\n",
       "      <th>active</th>\n",
       "      <th>state</th>\n",
       "    </tr>\n",
       "  </thead>\n",
       "  <tbody>\n",
       "    <tr>\n",
       "      <td>0</td>\n",
       "      <td>LynnGreer2010</td>\n",
       "      <td>NaN</td>\n",
       "      <td>NaN</td>\n",
       "      <td>NaN</td>\n",
       "      <td>NaN</td>\n",
       "      <td>NaN</td>\n",
       "      <td>NaN</td>\n",
       "      <td>inactive</td>\n",
       "      <td>Alabama</td>\n",
       "    </tr>\n",
       "    <tr>\n",
       "      <td>1</td>\n",
       "      <td>Pdm2195</td>\n",
       "      <td>NaN</td>\n",
       "      <td>NaN</td>\n",
       "      <td>NaN</td>\n",
       "      <td>NaN</td>\n",
       "      <td>NaN</td>\n",
       "      <td>NaN</td>\n",
       "      <td>inactive</td>\n",
       "      <td>Alabama</td>\n",
       "    </tr>\n",
       "    <tr>\n",
       "      <td>2</td>\n",
       "      <td>andy_whitt1</td>\n",
       "      <td>2.87325e+09</td>\n",
       "      <td>2020-06-08</td>\n",
       "      <td>1.26943e+18</td>\n",
       "      <td>347</td>\n",
       "      <td>1.0</td>\n",
       "      <td>2014-11-12</td>\n",
       "      <td>active</td>\n",
       "      <td>Alabama</td>\n",
       "    </tr>\n",
       "    <tr>\n",
       "      <td>3</td>\n",
       "      <td>PronceyHouse7</td>\n",
       "      <td>1.08989e+09</td>\n",
       "      <td>2020-06-08</td>\n",
       "      <td>1.26985e+18</td>\n",
       "      <td>2754</td>\n",
       "      <td>44.0</td>\n",
       "      <td>2013-01-14</td>\n",
       "      <td>active</td>\n",
       "      <td>Alabama</td>\n",
       "    </tr>\n",
       "    <tr>\n",
       "      <td>4</td>\n",
       "      <td>RepTerriCollins</td>\n",
       "      <td>4.74388e+08</td>\n",
       "      <td>2020-06-08</td>\n",
       "      <td>1.2686e+18</td>\n",
       "      <td>767</td>\n",
       "      <td>1.0</td>\n",
       "      <td>2012-01-25</td>\n",
       "      <td>active</td>\n",
       "      <td>Alabama</td>\n",
       "    </tr>\n",
       "    <tr>\n",
       "      <td>...</td>\n",
       "      <td>...</td>\n",
       "      <td>...</td>\n",
       "      <td>...</td>\n",
       "      <td>...</td>\n",
       "      <td>...</td>\n",
       "      <td>...</td>\n",
       "      <td>...</td>\n",
       "      <td>...</td>\n",
       "      <td>...</td>\n",
       "    </tr>\n",
       "    <tr>\n",
       "      <td>8261</td>\n",
       "      <td>VoteSpringer</td>\n",
       "      <td>NaN</td>\n",
       "      <td>NaN</td>\n",
       "      <td>NaN</td>\n",
       "      <td>NaN</td>\n",
       "      <td>NaN</td>\n",
       "      <td>NaN</td>\n",
       "      <td>inactive</td>\n",
       "      <td>Washington</td>\n",
       "    </tr>\n",
       "    <tr>\n",
       "      <td>8262</td>\n",
       "      <td>debra_entenman</td>\n",
       "      <td>NaN</td>\n",
       "      <td>NaN</td>\n",
       "      <td>NaN</td>\n",
       "      <td>NaN</td>\n",
       "      <td>NaN</td>\n",
       "      <td>NaN</td>\n",
       "      <td>protected</td>\n",
       "      <td>Washington</td>\n",
       "    </tr>\n",
       "    <tr>\n",
       "      <td>8263</td>\n",
       "      <td>bhasegawa</td>\n",
       "      <td>3.67938e+07</td>\n",
       "      <td>8/6/20</td>\n",
       "      <td>1.24977e+18</td>\n",
       "      <td>205</td>\n",
       "      <td>0.0</td>\n",
       "      <td>4/30/09</td>\n",
       "      <td>active</td>\n",
       "      <td>Washington</td>\n",
       "    </tr>\n",
       "    <tr>\n",
       "      <td>8264</td>\n",
       "      <td>KarenKeiser</td>\n",
       "      <td>NaN</td>\n",
       "      <td>NaN</td>\n",
       "      <td>NaN</td>\n",
       "      <td>NaN</td>\n",
       "      <td>NaN</td>\n",
       "      <td>NaN</td>\n",
       "      <td>inactive</td>\n",
       "      <td>Washington</td>\n",
       "    </tr>\n",
       "    <tr>\n",
       "      <td>8265</td>\n",
       "      <td>Annette4Senate</td>\n",
       "      <td>NaN</td>\n",
       "      <td>NaN</td>\n",
       "      <td>NaN</td>\n",
       "      <td>NaN</td>\n",
       "      <td>NaN</td>\n",
       "      <td>NaN</td>\n",
       "      <td>inactive</td>\n",
       "      <td>Washington</td>\n",
       "    </tr>\n",
       "  </tbody>\n",
       "</table>\n",
       "<p>8266 rows × 9 columns</p>\n",
       "</div>"
      ],
      "text/plain": [
       "          screen_name   account_id date_scraped latest_tweet_id total_tweets  \\\n",
       "0       LynnGreer2010          NaN          NaN             NaN          NaN   \n",
       "1             Pdm2195          NaN          NaN             NaN          NaN   \n",
       "2         andy_whitt1  2.87325e+09   2020-06-08     1.26943e+18          347   \n",
       "3       PronceyHouse7  1.08989e+09   2020-06-08     1.26985e+18         2754   \n",
       "4     RepTerriCollins  4.74388e+08   2020-06-08      1.2686e+18          767   \n",
       "...               ...          ...          ...             ...          ...   \n",
       "8261     VoteSpringer          NaN          NaN             NaN          NaN   \n",
       "8262   debra_entenman          NaN          NaN             NaN          NaN   \n",
       "8263        bhasegawa  3.67938e+07       8/6/20     1.24977e+18          205   \n",
       "8264      KarenKeiser          NaN          NaN             NaN          NaN   \n",
       "8265   Annette4Senate          NaN          NaN             NaN          NaN   \n",
       "\n",
       "      last_week_total_tweets active_since     active       state  \n",
       "0                        NaN          NaN   inactive     Alabama  \n",
       "1                        NaN          NaN   inactive     Alabama  \n",
       "2                        1.0   2014-11-12     active     Alabama  \n",
       "3                       44.0   2013-01-14     active     Alabama  \n",
       "4                        1.0   2012-01-25     active     Alabama  \n",
       "...                      ...          ...        ...         ...  \n",
       "8261                     NaN          NaN   inactive  Washington  \n",
       "8262                     NaN          NaN  protected  Washington  \n",
       "8263                     0.0      4/30/09     active  Washington  \n",
       "8264                     NaN          NaN   inactive  Washington  \n",
       "8265                     NaN          NaN   inactive  Washington  \n",
       "\n",
       "[8266 rows x 9 columns]"
      ]
     },
     "execution_count": 702,
     "metadata": {},
     "output_type": "execute_result"
    }
   ],
   "source": [
    "# Assign column names \n",
    "meta.columns = get_timeline_cols\n",
    "meta"
   ]
  },
  {
   "cell_type": "code",
   "execution_count": 703,
   "metadata": {},
   "outputs": [],
   "source": [
    "# Subset df to include only active accounts\n",
    "active_meta = meta.loc[meta[\"active\"]=='active',:].copy()"
   ]
  },
  {
   "cell_type": "code",
   "execution_count": 704,
   "metadata": {},
   "outputs": [
    {
     "data": {
      "text/plain": [
       "screen_name                       object\n",
       "account_id                         int64\n",
       "date_scraped              datetime64[ns]\n",
       "latest_tweet_id                    int64\n",
       "total_tweets                      object\n",
       "last_week_total_tweets           float64\n",
       "active_since                      object\n",
       "active                            object\n",
       "state                             object\n",
       "dtype: object"
      ]
     },
     "execution_count": 704,
     "metadata": {},
     "output_type": "execute_result"
    }
   ],
   "source": [
    "# Assign data types\n",
    "active_meta['date_scraped'] = pd.to_datetime(active_meta['date_scraped'])\n",
    "active_meta[\"account_id\"] = active_meta[\"account_id\"].astype(int)\n",
    "active_meta[\"latest_tweet_id\"] = active_meta[\"latest_tweet_id\"].astype(int)\n",
    "\n",
    "active_meta.dtypes"
   ]
  },
  {
   "cell_type": "code",
   "execution_count": 705,
   "metadata": {},
   "outputs": [
    {
     "data": {
      "text/plain": [
       "active    3816\n",
       "Name: active, dtype: int64"
      ]
     },
     "execution_count": 705,
     "metadata": {},
     "output_type": "execute_result"
    }
   ],
   "source": [
    "# Number of active accounts v/s other categories\n",
    "active_meta.active.value_counts()"
   ]
  },
  {
   "cell_type": "code",
   "execution_count": 706,
   "metadata": {},
   "outputs": [
    {
     "data": {
      "text/plain": [
       "Pennsylvania      184\n",
       "New_York          167\n",
       "Massachusetts     157\n",
       "Texas             156\n",
       "Minnesota         148\n",
       "New_Hampshire     138\n",
       "Georgia           135\n",
       "Florida           132\n",
       "Maryland          128\n",
       "Missouri          126\n",
       "North_Carolina    118\n",
       "Illinois          116\n",
       "California        115\n",
       "Virginia          105\n",
       "South_Carolina    101\n",
       "Ohio              100\n",
       "Michigan           93\n",
       "Kentucky           87\n",
       "Connecticut        83\n",
       "Colorado           83\n",
       "Tennessee          83\n",
       "New_Jersy          82\n",
       "Arizona            78\n",
       "Louisiana          78\n",
       "Washington         77\n",
       "Arkansas           77\n",
       "Mississippi        74\n",
       "Indiana            74\n",
       "Kansas             71\n",
       "Rhode_Island       68\n",
       "Utah               63\n",
       "New_Mexico         60\n",
       "Nevada             56\n",
       "Alabama            54\n",
       "Oregon             53\n",
       "Montana            47\n",
       "Maine              44\n",
       "Idaho              31\n",
       "Vermont            31\n",
       "North_Dakota       28\n",
       "Hawaii             25\n",
       "Alaska             24\n",
       "South_Dakota       23\n",
       "Nebraska           22\n",
       "Delaware           21\n",
       "Name: state, dtype: int64"
      ]
     },
     "execution_count": 706,
     "metadata": {},
     "output_type": "execute_result"
    }
   ],
   "source": [
    "# Number of active accounts in each State \n",
    "active_meta.state.value_counts()"
   ]
  },
  {
   "cell_type": "code",
   "execution_count": 707,
   "metadata": {},
   "outputs": [
    {
     "data": {
      "text/plain": [
       "197.28571428571428"
      ]
     },
     "execution_count": 707,
     "metadata": {},
     "output_type": "execute_result"
    }
   ],
   "source": [
    "# Maximum number tweets sent in a day \n",
    "max(active_meta.last_week_total_tweets)/7"
   ]
  },
  {
   "cell_type": "code",
   "execution_count": 708,
   "metadata": {},
   "outputs": [
    {
     "data": {
      "text/plain": [
       "87"
      ]
     },
     "execution_count": 708,
     "metadata": {},
     "output_type": "execute_result"
    }
   ],
   "source": [
    "# Total number of legislators who tweet more than a 100 times in a week\n",
    "active_meta[active_meta.last_week_total_tweets > 100]['state'].value_counts().sum()"
   ]
  },
  {
   "cell_type": "code",
   "execution_count": 709,
   "metadata": {},
   "outputs": [
    {
     "data": {
      "text/plain": [
       "Arizona           9\n",
       "Texas             7\n",
       "Minnesota         7\n",
       "New_Hampshire     7\n",
       "New_Mexico        6\n",
       "New_York          4\n",
       "Colorado          4\n",
       "California        3\n",
       "Florida           3\n",
       "Massachusetts     3\n",
       "Kentucky          3\n",
       "Tennessee         3\n",
       "Delaware          2\n",
       "Ohio              2\n",
       "Georgia           2\n",
       "Arkansas          2\n",
       "North_Carolina    2\n",
       "Alabama           2\n",
       "Maryland          2\n",
       "Pennsylvania      2\n",
       "Nebraska          1\n",
       "Nevada            1\n",
       "Washington        1\n",
       "Oregon            1\n",
       "Indiana           1\n",
       "South_Carolina    1\n",
       "Vermont           1\n",
       "Missouri          1\n",
       "Virginia          1\n",
       "Illinois          1\n",
       "Mississippi       1\n",
       "Rhode_Island      1\n",
       "Name: state, dtype: int64"
      ]
     },
     "execution_count": 709,
     "metadata": {},
     "output_type": "execute_result"
    }
   ],
   "source": [
    "# Distribution of above by State \n",
    "active_meta[active_meta.last_week_total_tweets > 100]['state'].value_counts()"
   ]
  },
  {
   "cell_type": "code",
   "execution_count": 720,
   "metadata": {},
   "outputs": [],
   "source": [
    "# Metadata round to create\n",
    "metaCreate = 'metadata_R2'\n",
    "'Data/*/*'+ metaUse + '*.csv'"
   ]
  },
  {
   "cell_type": "code",
   "execution_count": 711,
   "metadata": {},
   "outputs": [
    {
     "data": {
      "text/plain": [
       "array(['Alabama', 'Alaska', 'Arizona', 'Arkansas', 'California',\n",
       "       'Colorado', 'Connecticut', 'Delaware', 'Florida', 'Georgia',\n",
       "       'Hawaii', 'Idaho', 'Illinois', 'Indiana', 'Kansas', 'Kentucky',\n",
       "       'Louisiana', 'Maine', 'Maryland', 'Massachusetts', 'Michigan',\n",
       "       'Minnesota', 'Mississippi', 'Missouri', 'Montana', 'Nebraska',\n",
       "       'Nevada', 'New_Hampshire', 'New_Jersy', 'New_Mexico', 'New_York',\n",
       "       'North_Carolina', 'North_Dakota', 'Ohio', 'Oregon'], dtype=object)"
      ]
     },
     "execution_count": 711,
     "metadata": {},
     "output_type": "execute_result"
    }
   ],
   "source": [
    "# Identify States for which to collect tweets \n",
    "# Flags when 15 days have passed since the last download\n",
    "\n",
    "date_today = datetime.datetime.today()\n",
    "days_elapsed = date_today - active_meta.date_scraped\n",
    "\n",
    "collect_states = active_meta.loc[days_elapsed.dt.days > 15, 'state'].unique()\n",
    "\n",
    "collected_state = glob.glob('*')"
   ]
  },
  {
   "cell_type": "code",
   "execution_count": 723,
   "metadata": {},
   "outputs": [],
   "source": [
    "state = 'Oregon'\n",
    "# Navigate to State folder\n",
    "path_state = (\"/Users/ishitagopal/Box/Projects/state_covid_policy/Data/\" + state)\n",
    "os.chdir(path_state)\n",
    "\n",
    "# Subset to create state specific dataframe\n",
    "state_meta = active_meta.loc[active_meta['state']==state,:] \n",
    "\n",
    "# fname\n",
    "fname2 = '%s_' % state + metaCreate +'.csv'\n"
   ]
  },
  {
   "cell_type": "code",
   "execution_count": 715,
   "metadata": {},
   "outputs": [
    {
     "name": "stdout",
     "output_type": "stream",
     "text": [
      "File already exists\n",
      "53\n"
     ]
    }
   ],
   "source": [
    "# Create metadata file  in the state directory if it doesnt exist \n",
    "\n",
    "if os.path.exists(fname)==True:\n",
    "    print('File already exists')\n",
    "    df = pd.read_csv(fmeta[0], index_col=0)\n",
    "    handles = df.loc[df['active'].isnull(),:].index.to_list()\n",
    "    since_id = state_meta.loc[state_meta['screen_name'].isin(handles), 'latest_tweet_id'].to_list()\n",
    "    print(len(handles))\n",
    "    \n",
    "else:\n",
    "    print('File Created')\n",
    "    handles = state_meta['screen_name'].to_list()\n",
    "    since_id = state_meta['latest_tweet_id'].to_list()\n",
    "    df = pd.DataFrame(columns=cols,index=handles)\n",
    "    df.to_csv(fname)\n",
    "    print(len(handles))"
   ]
  },
  {
   "cell_type": "code",
   "execution_count": 716,
   "metadata": {},
   "outputs": [
    {
     "name": "stdout",
     "output_type": "stream",
     "text": [
      "Index: 0, Handle: DavidBrockSmith\n",
      "1\n",
      "DavidBrockSmith/DavidBrockSmith_Tweets_August10.json\n",
      "writen to file\n",
      "Index: 1, Handle: RepCarlWilson\n",
      "0\n",
      "Index: 2, Handle: duane_stark\n",
      "0\n",
      "Index: 3, Handle: CedricHaydenOR\n",
      "0\n",
      "Index: 4, Handle: duckwilde\n",
      "17\n",
      "duckwilde/duckwilde_Tweets_August10.json\n",
      "writen to file\n",
      "Index: 5, Handle: Rep_NN\n",
      "1\n",
      "Rep_NN/Rep_NN_Tweets_August10.json\n",
      "writen to file\n",
      "Index: 6, Handle: juliefahey\n",
      "15\n",
      "juliefahey/juliefahey_Tweets_August10.json\n",
      "writen to file\n",
      "Index: 7, Handle: BoshartDavisAg\n",
      "1\n",
      "BoshartDavisAg/BoshartDavisAg_Tweets_August10.json\n",
      "writen to file\n",
      "Index: 8, Handle: DanRayfield\n",
      "4\n",
      "DanRayfield/DanRayfield_Tweets_August10.json\n",
      "writen to file\n",
      "Index: 9, Handle: EvansforOregon\n",
      "0\n",
      "Index: 10, Handle: Uncle_Mikey\n",
      "0\n",
      "Index: 11, Handle: NobleForOregon\n",
      "protected\n",
      "Index: 12, Handle: BillPostOregon\n",
      "88\n",
      "BillPostOregon/BillPostOregon_Tweets_August10.json\n",
      "writen to file\n",
      "Index: 13, Handle: RepNeronHD26\n",
      "0\n",
      "Index: 14, Handle: SollmanJaneen\n",
      "19\n",
      "SollmanJaneen/SollmanJaneen_Tweets_August10.json\n",
      "writen to file\n",
      "Index: 15, Handle: BradWitt15\n",
      "0\n",
      "Index: 16, Handle: RepMitchell32\n",
      "3\n",
      "RepMitchell32/RepMitchell32_Tweets_August10.json\n",
      "writen to file\n",
      "Index: 17, Handle: RepKenHelm\n",
      "0\n",
      "Index: 18, Handle: akasha4theppl\n",
      "14\n",
      "akasha4theppl/akasha4theppl_Tweets_August10.json\n",
      "writen to file\n",
      "Index: 19, Handle: Rachel_Prusak\n",
      "16\n",
      "Rachel_Prusak/Rachel_Prusak_Tweets_August10.json\n",
      "writen to file\n",
      "Index: 20, Handle: AndreaRSalinas\n",
      "2\n",
      "AndreaRSalinas/AndreaRSalinas_Tweets_August10.json\n",
      "writen to file\n",
      "Index: 21, Handle: ChristineDrazan\n",
      "0\n",
      "Index: 22, Handle: karin_power\n",
      "9\n",
      "karin_power/karin_power_Tweets_August10.json\n",
      "writen to file\n",
      "Index: 23, Handle: RobNosse\n",
      "1\n",
      "RobNosse/RobNosse_Tweets_August10.json\n",
      "writen to file\n",
      "Index: 24, Handle: RepTawnaSanchez\n",
      "2\n",
      "RepTawnaSanchez/RepTawnaSanchez_Tweets_August10.json\n",
      "writen to file\n",
      "Index: 25, Handle: TinaKotek\n",
      "4\n",
      "TinaKotek/TinaKotek_Tweets_August10.json\n",
      "writen to file\n",
      "Index: 26, Handle: RepBSW\n",
      "6\n",
      "RepBSW/RepBSW_Tweets_August10.json\n",
      "writen to file\n",
      "Index: 27, Handle: alissakg\n",
      "79\n",
      "alissakg/alissakg_Tweets_August10.json\n",
      "writen to file\n",
      "Index: 28, Handle: RepCarlaCPiluso\n",
      "13\n",
      "RepCarlaCPiluso/RepCarlaCPiluso_Tweets_August10.json\n",
      "writen to file\n",
      "Index: 29, Handle: bynum4thewin\n",
      "8\n",
      "bynum4thewin/bynum4thewin_Tweets_August10.json\n",
      "writen to file\n",
      "Index: 30, Handle: JackZikaOR\n",
      "1\n",
      "JackZikaOR/JackZikaOR_Tweets_August10.json\n",
      "writen to file\n",
      "Index: 31, Handle: CheriHeltOR\n",
      "22\n",
      "CheriHeltOR/CheriHeltOR_Tweets_August10.json\n",
      "writen to file\n",
      "Index: 32, Handle: EWReschke\n",
      "159\n",
      "EWReschke/EWReschke_Tweets_August10.json\n",
      "writen to file\n",
      "Index: 33, Handle: dbonham31\n",
      "8\n",
      "dbonham31/dbonham31_Tweets_August10.json\n",
      "writen to file\n",
      "Index: 34, Handle: SenBaertschiger\n",
      "1\n",
      "SenBaertschiger/SenBaertschiger_Tweets_August10.json\n",
      "writen to file\n",
      "Index: 35, Handle: SenatorGolden\n",
      "0\n",
      "Index: 36, Handle: SenProzanski\n",
      "1\n",
      "SenProzanski/SenProzanski_Tweets_August10.json\n",
      "writen to file\n",
      "Index: 37, Handle: manningstl\n",
      "34\n",
      "manningstl/manningstl_Tweets_August10.json\n",
      "writen to file\n",
      "Index: 38, Handle: SenSaraGelser\n",
      "54\n",
      "SenSaraGelser/SenSaraGelser_Tweets_August10.json\n",
      "writen to file\n",
      "Index: 39, Handle: DenycBoles\n",
      "1\n",
      "DenycBoles/DenycBoles_Tweets_August10.json\n",
      "writen to file\n",
      "Index: 40, Handle: MarkHassOregon\n",
      "1\n",
      "MarkHassOregon/MarkHassOregon_Tweets_August10.json\n",
      "writen to file\n",
      "Index: 41, Handle: ChuckRiley2014\n",
      "33\n",
      "ChuckRiley2014/ChuckRiley2014_Tweets_August10.json\n",
      "writen to file\n",
      "Index: 42, Handle: senbetsyjohnson\n",
      "2\n",
      "senbetsyjohnson/senbetsyjohnson_Tweets_August10.json\n",
      "writen to file\n",
      "Index: 43, Handle: ESHforOregon\n",
      "6\n",
      "ESHforOregon/ESHforOregon_Tweets_August10.json\n",
      "writen to file\n",
      "Index: 44, Handle: SenBurdick\n",
      "3\n",
      "SenBurdick/SenBurdick_Tweets_August10.json\n",
      "writen to file\n",
      "Index: 45, Handle: RobForOregon\n",
      "44\n",
      "RobForOregon/RobForOregon_Tweets_August10.json\n",
      "writen to file\n",
      "Index: 46, Handle: SenatorOlsen\n",
      "1\n",
      "SenatorOlsen/SenatorOlsen_Tweets_August10.json\n",
      "writen to file\n",
      "Index: 47, Handle: michaeldembrow\n",
      "15\n",
      "michaeldembrow/michaeldembrow_Tweets_August10.json\n",
      "writen to file\n",
      "Index: 48, Handle: ShemiaForOregon\n",
      "85\n",
      "ShemiaForOregon/ShemiaForOregon_Tweets_August10.json\n",
      "writen to file\n",
      "Index: 49, Handle: ChuckThomsen\n",
      "1\n",
      "ChuckThomsen/ChuckThomsen_Tweets_August10.json\n",
      "writen to file\n",
      "Index: 50, Handle: SenatorKnopp\n",
      "0\n",
      "Index: 51, Handle: DennisLinthicum\n",
      "2\n",
      "DennisLinthicum/DennisLinthicum_Tweets_August10.json\n",
      "writen to file\n",
      "Index: 52, Handle: Hansell4Senate\n",
      "1\n",
      "Hansell4Senate/Hansell4Senate_Tweets_August10.json\n",
      "writen to file\n"
     ]
    }
   ],
   "source": [
    "# Collect tweets since \n",
    "for i in range(0,len(handles)):    \n",
    "    \n",
    "    print('Index: %s, Handle: %s' % (i, handles[i]))\n",
    "    \n",
    "    # Read metadata csv \n",
    "    metadata = pd.read_csv(fname, index_col=0)\n",
    "\n",
    "    # Download tweets\n",
    "    results = get_timeline_since(handles[i], since_id[i])\n",
    "    len(results['tweets'])\n",
    "    metadata.loc[handles[i]] = results['metadata'][1:5]\n",
    "\n",
    "    if len(results['tweets']) > 0:\n",
    "\n",
    "        # Dump tweets to file\n",
    "        date = today.strftime(\"%B%d\") \n",
    "        file_name =  '%s/' % handles[i] + '%s_Tweets_%s' % (handles[i], date) + '.json'\n",
    "        print(file_name)\n",
    "        with open(file_name , 'w', encoding='utf8') as file:\n",
    "            json.dump([tweet._json for tweet in results['tweets']], file)\n",
    "            print(\"writen to file\")\n",
    "\n",
    "    metadata.to_csv(fname)"
   ]
  },
  {
   "cell_type": "code",
   "execution_count": 717,
   "metadata": {},
   "outputs": [
    {
     "data": {
      "text/plain": [
       "0"
      ]
     },
     "execution_count": 717,
     "metadata": {},
     "output_type": "execute_result"
    }
   ],
   "source": [
    "# Check the number of null rows -- should be zero \n",
    "metadata.active.isna().sum() "
   ]
  },
  {
   "cell_type": "code",
   "execution_count": 718,
   "metadata": {},
   "outputs": [
    {
     "data": {
      "text/plain": [
       "active       52\n",
       "protected     1\n",
       "Name: active, dtype: int64"
      ]
     },
     "execution_count": 718,
     "metadata": {},
     "output_type": "execute_result"
    }
   ],
   "source": [
    "# Number of active accounts\n",
    "metadata.active.value_counts()\n"
   ]
  },
  {
   "cell_type": "code",
   "execution_count": 719,
   "metadata": {},
   "outputs": [
    {
     "data": {
      "text/plain": [
       "0"
      ]
     },
     "execution_count": 719,
     "metadata": {},
     "output_type": "execute_result"
    }
   ],
   "source": [
    "# Number of accounts with 0 tweets\n",
    "sum(metadata.total_tweets.value_counts()==0)"
   ]
  },
  {
   "cell_type": "code",
   "execution_count": null,
   "metadata": {},
   "outputs": [],
   "source": []
  }
 ],
 "metadata": {
  "kernelspec": {
   "display_name": "Python 3",
   "language": "python",
   "name": "python3"
  },
  "language_info": {
   "codemirror_mode": {
    "name": "ipython",
    "version": 3
   },
   "file_extension": ".py",
   "mimetype": "text/x-python",
   "name": "python",
   "nbconvert_exporter": "python",
   "pygments_lexer": "ipython3",
   "version": "3.7.4"
  }
 },
 "nbformat": 4,
 "nbformat_minor": 2
}
